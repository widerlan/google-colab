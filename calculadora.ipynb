{
  "nbformat": 4,
  "nbformat_minor": 0,
  "metadata": {
    "colab": {
      "provenance": []
    },
    "kernelspec": {
      "name": "python3",
      "display_name": "Python 3"
    },
    "language_info": {
      "name": "python"
    }
  },
  "cells": [
    {
      "cell_type": "code",
      "execution_count": null,
      "metadata": {
        "colab": {
          "base_uri": "https://localhost:8080/"
        },
        "id": "pi_eFR7STv72",
        "outputId": "9c74c370-079f-44d4-e62e-08d532a05cd9"
      },
      "outputs": [
        {
          "output_type": "stream",
          "name": "stdout",
          "text": [
            "Primeiro número:7\n",
            "Segundo número:9\n",
            "Digite a operação a realizar (+,-,* ou /):*\n",
            "Resultado:  63.0\n"
          ]
        }
      ],
      "source": [
        "w = float(input(\"Primeiro número:\"))\n",
        "j = float(input(\"Segundo número:\"))\n",
        "operação = (input(\"Digite a operação a realizar (+,-,* ou /):\"))\n",
        "if operação == \"+\":\n",
        "    resultado = w + j\n",
        "elif operação == \"-\":\n",
        "    resultado = w - j\n",
        "elif operação == \"*\":\n",
        "    resultado = w * j\n",
        "elif operação == \"/\":\n",
        "    resultado = w / j\n",
        "else:\n",
        "    print(\"Operação inválida!\")\n",
        "    resultado = 0\n",
        "print(\"Resultado: \", resultado)\n"
      ]
    },
    {
      "cell_type": "code",
      "source": [],
      "metadata": {
        "id": "rOwix1VtUUkW"
      },
      "execution_count": null,
      "outputs": []
    }
  ]
}